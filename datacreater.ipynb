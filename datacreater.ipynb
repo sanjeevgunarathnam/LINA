{
 "cells": [
  {
   "cell_type": "code",
   "execution_count": null,
   "metadata": {},
   "outputs": [],
   "source": [
    "import cv2\n",
    "import numpy as np \n",
    "\n",
    "faceDetect = cv2.CascadeClassifier('haarcascade_frontalface_default.xml')\n",
    "cam = cv2.VideoCapture(0)\n",
    "\n",
    "id=input('Enter user id')\n",
    "sampleNum=0\n",
    "\n",
    "while True:    \n",
    "    ret, img = cam.read()\n",
    "    gray=cv2.cvtColor(img,cv2.COLOR_BGRA2GRAY)\n",
    "    faces = faceDetect.detectMultiScale(gray,1.3,5)\n",
    "    for (x,y,w,h) in faces:\n",
    "        sampleNum=sampleNum+1\n",
    "        cv2.imwrite(\"dataSet/User.\"+\".\"+str(sampleNum)+\".jpg\",gray[y:y+h,x:x+w])\n",
    "        cv2.rectangle(img, (x,y), (x+w , y+h), (0,255,0), 2)\n",
    "        cv2.waitKey(100)\n",
    "    cv2.imshow('Face' , img)\n",
    "    cv2.waitKey(1)\n",
    "    if(sampleNum >50):\n",
    "        break\n",
    "    \n",
    "cv2.destroyAllWindows()\n",
    "cam.release()\n",
    "\n",
    "\n",
    "\n",
    "\n",
    "\n",
    "\n"
   ]
  },
  {
   "cell_type": "code",
   "execution_count": null,
   "metadata": {},
   "outputs": [],
   "source": []
  }
 ],
 "metadata": {
  "kernelspec": {
   "display_name": "Python 3",
   "language": "python",
   "name": "python3"
  },
  "language_info": {
   "codemirror_mode": {
    "name": "ipython",
    "version": 3
   },
   "file_extension": ".py",
   "mimetype": "text/x-python",
   "name": "python",
   "nbconvert_exporter": "python",
   "pygments_lexer": "ipython3",
   "version": "3.6.4"
  }
 },
 "nbformat": 4,
 "nbformat_minor": 2
}
